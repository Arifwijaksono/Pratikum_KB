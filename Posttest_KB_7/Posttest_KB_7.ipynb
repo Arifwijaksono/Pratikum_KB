{
  "nbformat": 4,
  "nbformat_minor": 0,
  "metadata": {
    "colab": {
      "provenance": []
    },
    "kernelspec": {
      "name": "python3",
      "display_name": "Python 3"
    },
    "language_info": {
      "name": "python"
    }
  },
  "cells": [
    {
      "cell_type": "markdown",
      "source": [
        "Nama : Arif Wijaksono"
      ],
      "metadata": {
        "id": "h5qK_XDuR_om"
      }
    },
    {
      "cell_type": "markdown",
      "source": [
        "Nim : 2109106129"
      ],
      "metadata": {
        "id": "ygnRDw-FSFs2"
      }
    },
    {
      "cell_type": "markdown",
      "source": [
        "Link Dataset : https://www.kaggle.com/datasets/hasibalmuzdadid/shoe-vs-sandal-vs-boot-dataset-15k-images"
      ],
      "metadata": {
        "id": "tJF0XyxhSKqo"
      }
    },
    {
      "cell_type": "markdown",
      "source": [
        "untuk menyambungkan google drive ke google colab"
      ],
      "metadata": {
        "id": "Ju6HTQ4JSYYF"
      }
    },
    {
      "cell_type": "code",
      "source": [
        "from google.colab import drive\n",
        "drive.mount('/content/drive')"
      ],
      "metadata": {
        "id": "7V2uebNHEfuq"
      },
      "execution_count": null,
      "outputs": []
    },
    {
      "cell_type": "code",
      "source": [
        "!unzip '/content/drive/MyDrive/KB/archive (6).zip'"
      ],
      "metadata": {
        "id": "zot7MnO2E80g"
      },
      "execution_count": null,
      "outputs": []
    },
    {
      "cell_type": "markdown",
      "source": [
        "IMPORT LIBRARY"
      ],
      "metadata": {
        "id": "Tf5fXYboUZ6_"
      }
    },
    {
      "cell_type": "code",
      "source": [
        "import tensorflow as tf\n",
        "import os\n",
        "from tensorflow.keras.preprocessing.image import ImageDataGenerator\n",
        "from tensorflow.keras.applications import VGG16\n",
        "from tensorflow.keras.layers import Dense, Flatten, Dropout\n",
        "from tensorflow.keras.models import Sequential\n",
        "import matplotlib.pyplot as plt\n",
        "import seaborn as sns"
      ],
      "metadata": {
        "id": "CE5xNhXHJ2nQ"
      },
      "execution_count": null,
      "outputs": []
    },
    {
      "cell_type": "code",
      "source": [
        "path = '/content/drive/MyDrive/KB/archive (6).zip'"
      ],
      "metadata": {
        "id": "ZlPuF4BNMAv4"
      },
      "execution_count": null,
      "outputs": []
    },
    {
      "cell_type": "markdown",
      "source": [
        "SPLIT DATASET"
      ],
      "metadata": {
        "id": "1bbWG5_LTKl1"
      }
    },
    {
      "cell_type": "markdown",
      "source": [
        "DATASET DI SPLIT DENGAN RASIO 80,10,10"
      ],
      "metadata": {
        "id": "gGvrI3v2TMai"
      }
    },
    {
      "cell_type": "code",
      "source": [
        "!pip install split-folders"
      ],
      "metadata": {
        "id": "rGx0dNDCMNkM"
      },
      "execution_count": null,
      "outputs": []
    },
    {
      "cell_type": "code",
      "source": [
        "import splitfolders"
      ],
      "metadata": {
        "id": "1cqvhY31OBbH"
      },
      "execution_count": null,
      "outputs": []
    },
    {
      "cell_type": "code",
      "source": [
        "splitfolders.ratio(\"Shoe vs Sandal vs Boot Dataset\",\n",
        "                   output=\"dataset_final\",\n",
        "                   seed = 1337,\n",
        "                   ratio=(.8,.1,.1))"
      ],
      "metadata": {
        "id": "XxN8_BrvOQYP"
      },
      "execution_count": null,
      "outputs": []
    },
    {
      "cell_type": "code",
      "source": [
        "from tensorflow.keras.preprocessing.image import ImageDataGenerator"
      ],
      "metadata": {
        "id": "r1J-rYTGOcFr"
      },
      "execution_count": null,
      "outputs": []
    },
    {
      "cell_type": "markdown",
      "source": [
        "MENGUBAH BENTUK GAMBAR DARI TRAIN DAN VAL"
      ],
      "metadata": {
        "id": "wfIDv5giTfxO"
      }
    },
    {
      "cell_type": "code",
      "source": [
        "train_datagen = ImageDataGenerator(\n",
        "    rescale= 1./ 255,\n",
        ")\n",
        "\n",
        "val_datagen = ImageDataGenerator(\n",
        "    rescale = 1./255\n",
        ")"
      ],
      "metadata": {
        "id": "RzbrONEgOgZs"
      },
      "execution_count": null,
      "outputs": []
    },
    {
      "cell_type": "code",
      "source": [
        "train_generator  = train_datagen.flow_from_directory(\n",
        "    '/content/dataset_final/train',\n",
        "    target_size = (68,68),\n",
        "    batch_size = 32,\n",
        "    class_mode = 'binary'\n",
        ")\n",
        "\n",
        "val_generator  = val_datagen.flow_from_directory(\n",
        "    '/content/dataset_final/val',\n",
        "    target_size = (68,68),\n",
        "    batch_size = 32,\n",
        "    class_mode = 'binary'\n",
        ")"
      ],
      "metadata": {
        "id": "5LKpgYHsOk8d"
      },
      "execution_count": null,
      "outputs": []
    },
    {
      "cell_type": "code",
      "source": [
        "import tensorflow as tf\n",
        "from tensorflow.keras import Sequential\n",
        "from tensorflow.keras.layers import Conv2D, MaxPooling2D, Flatten, Dense\n",
        "from tensorflow.keras.callbacks import EarlyStopping\n",
        "import matplotlib.pyplot as plt"
      ],
      "metadata": {
        "id": "c1eNgnQAO515"
      },
      "execution_count": null,
      "outputs": []
    },
    {
      "cell_type": "markdown",
      "source": [
        "MEMBUAT MODEL"
      ],
      "metadata": {
        "id": "Hrv3V0I_Ul2d"
      }
    },
    {
      "cell_type": "code",
      "source": [
        "model = Sequential([\n",
        "\n",
        "    Conv2D(16,(3,3), activation = 'relu', input_shape = (68,68,3)),\n",
        "    MaxPooling2D(2,2),\n",
        "    Conv2D(64,(3,3), activation = 'relu'),\n",
        "    MaxPooling2D(2,2),\n",
        "\n",
        "    Flatten(),\n",
        "    Dense(128, activation = 'relu'),\n",
        "    Dense(64, activation = 'relu'),\n",
        "    Dense(1, activation = 'sigmoid')\n",
        "])\n",
        "\n",
        "model.compile(optimizer = 'adam',\n",
        "              loss = 'binary_crossentropy',\n",
        "              metrics = ['accuracy'])"
      ],
      "metadata": {
        "id": "QBNJkn6ZO9ez"
      },
      "execution_count": null,
      "outputs": []
    },
    {
      "cell_type": "markdown",
      "source": [
        "MEMBUAT FITUR CALLBACK DAN MELATIH MODEL"
      ],
      "metadata": {
        "id": "vk-oGDryUpdZ"
      }
    },
    {
      "cell_type": "code",
      "source": [
        "early_stopping = EarlyStopping(monitor='val_loss', patience=10)"
      ],
      "metadata": {
        "id": "8fnIqZhFPCuf"
      },
      "execution_count": null,
      "outputs": []
    },
    {
      "cell_type": "code",
      "source": [
        "history = model.fit(train_generator, epochs = 2,\n",
        "          validation_data = val_generator,\n",
        "          verbose = 1, callbacks=[early_stopping])"
      ],
      "metadata": {
        "colab": {
          "base_uri": "https://localhost:8080/"
        },
        "id": "b9EzsrxZPGKZ",
        "outputId": "6a392426-ce1a-4f6a-b781-1bfcbbde4be0"
      },
      "execution_count": 27,
      "outputs": [
        {
          "output_type": "stream",
          "name": "stdout",
          "text": [
            "Epoch 1/2\n",
            "375/375 [==============================] - 77s 206ms/step - loss: -165450042310656.0000 - accuracy: 0.3803 - val_loss: -179238195953664.0000 - val_accuracy: 0.3845\n",
            "Epoch 2/2\n",
            "375/375 [==============================] - 66s 175ms/step - loss: -191690027565056.0000 - accuracy: 0.3841 - val_loss: -207157244985344.0000 - val_accuracy: 0.3825\n"
          ]
        }
      ]
    },
    {
      "cell_type": "markdown",
      "source": [
        "EVALUATE HASIL MODEL"
      ],
      "metadata": {
        "id": "RR3YAvhUUwrW"
      }
    },
    {
      "cell_type": "code",
      "source": [
        "test_datagen  = ImageDataGenerator(\n",
        "    rescale = 1./255\n",
        ")\n",
        "\n",
        "test_generator = test_datagen.flow_from_directory(\n",
        "    '/content/dataset_final/test',\n",
        "    target_size = (68,68),\n",
        "    batch_size = 32,\n",
        "    class_mode = 'binary'\n",
        ")"
      ],
      "metadata": {
        "colab": {
          "base_uri": "https://localhost:8080/"
        },
        "id": "xL2I5cDrPZ7T",
        "outputId": "10d39925-7570-4c92-cb14-05f384a86091"
      },
      "execution_count": 28,
      "outputs": [
        {
          "output_type": "stream",
          "name": "stdout",
          "text": [
            "Found 1502 images belonging to 3 classes.\n"
          ]
        }
      ]
    },
    {
      "cell_type": "code",
      "source": [
        "model.evaluate(test_generator)"
      ],
      "metadata": {
        "colab": {
          "base_uri": "https://localhost:8080/"
        },
        "id": "vV9kwFVyQM7f",
        "outputId": "d9607af5-11c4-46a4-a4bf-b4e989767d08"
      },
      "execution_count": 29,
      "outputs": [
        {
          "output_type": "stream",
          "name": "stdout",
          "text": [
            "47/47 [==============================] - 2s 49ms/step - loss: -209022502305792.0000 - accuracy: 0.3842\n"
          ]
        },
        {
          "output_type": "execute_result",
          "data": {
            "text/plain": [
              "[-209022502305792.0, 0.38415446877479553]"
            ]
          },
          "metadata": {},
          "execution_count": 29
        }
      ]
    },
    {
      "cell_type": "markdown",
      "source": [
        "MEMBUAT PLOT HASIL TRAIN"
      ],
      "metadata": {
        "id": "aFhQ8CRKU7DE"
      }
    },
    {
      "cell_type": "code",
      "source": [
        "plt.plot(history.history['accuracy'])\n",
        "plt.plot(history.history['val_accuracy'])\n",
        "plt.title('Akurasi Model')\n",
        "plt.ylabel('Akurasi')\n",
        "plt.xlabel('Epoch')\n",
        "plt.legend(['Train', 'Val'], loc='upper left')\n",
        "plt.show()"
      ],
      "metadata": {
        "colab": {
          "base_uri": "https://localhost:8080/",
          "height": 472
        },
        "id": "pJpjALlbQRXf",
        "outputId": "c9eec25a-1aef-4d91-c5b8-ec6413e241d5"
      },
      "execution_count": 30,
      "outputs": [
        {
          "output_type": "display_data",
          "data": {
            "text/plain": [
              "<Figure size 640x480 with 1 Axes>"
            ],
            "image/png": "[encoded data removed]"
          },
          "metadata": {}
        }
      ]
    },
    {
      "cell_type": "code",
      "source": [
        "plt.plot(history.history['loss'])\n",
        "plt.plot(history.history['val_loss'])\n",
        "plt.title('Loss dari Model')\n",
        "plt.ylabel('Loss')\n",
        "plt.xlabel('Epoch')\n",
        "plt.legend(['Train', 'Val'], loc='upper left')\n",
        "plt.show()"
      ],
      "metadata": {
        "colab": {
          "base_uri": "https://localhost:8080/",
          "height": 472
        },
        "id": "UeudeUgkQYe6",
        "outputId": "c2b486ac-f28f-419f-9b31-d0a67683c225"
      },
      "execution_count": 31,
      "outputs": [
        {
          "output_type": "display_data",
          "data": {
            "text/plain": [
              "<Figure size 640x480 with 1 Axes>"
            ],
            "image/png": "[encoded data removed]"
          },
          "metadata": {}
        }
      ]
    }
  ]
}