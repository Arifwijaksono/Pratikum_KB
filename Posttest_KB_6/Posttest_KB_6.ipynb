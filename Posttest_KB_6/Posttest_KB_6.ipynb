{
 "cells": [
  {
   "cell_type": "markdown",
   "id": "865fef50-84fb-473f-ba4d-3cc909f5b459",
   "metadata": {},
   "source": [
    "***POSTTEST 6***"
   ]
  },
  {
   "cell_type": "markdown",
   "id": "b071e1a6-0876-46d6-bf98-57a13164b05d",
   "metadata": {},
   "source": [
    "Nama : Arif Wijaksono"
   ]
  },
  {
   "cell_type": "markdown",
   "id": "df25e6c1-0ee6-4a82-9e30-1d69ddefb9c4",
   "metadata": {},
   "source": [
    "Nim : 2109106129"
   ]
  },
  {
   "cell_type": "markdown",
   "id": "9970a7ce-893e-4dee-8319-3b214ca6da72",
   "metadata": {},
   "source": [
    "***Import Library Yang Di Gunakan***"
   ]
  },
  {
   "cell_type": "markdown",
   "id": "f5eed2a6-56a8-46aa-8832-df66cccb2062",
   "metadata": {},
   "source": [
    "Link Drive:https://drive.google.com/file/d/15ls7zvwLXqwn662OXkCoq7cglbqcf1PS/view?usp=drive_link"
   ]
  },
  {
   "cell_type": "code",
   "execution_count": 28,
   "id": "8cc4d436-5746-4990-a085-693bc328a067",
   "metadata": {},
   "outputs": [],
   "source": [
    "import pandas as pd\n",
    "import numpy as np\n",
    "from sklearn.model_selection import train_test_split\n",
    "from sklearn.preprocessing import StandardScaler, LabelEncoder\n",
    "from tensorflow import keras\n",
    "from tensorflow.keras import layers\n",
    "from tensorflow.keras.models import Sequential\n",
    "from tensorflow.keras.callbacks import EarlyStopping, ModelCheckpoint\n",
    "from sklearn.metrics import accuracy_score\n",
    "import matplotlib.pyplot as plt"
   ]
  },
  {
   "cell_type": "markdown",
   "id": "1ff45bb8-d973-4617-b991-5f8166a81765",
   "metadata": {},
   "source": [
    "***Menampilkan Dataset***"
   ]
  },
  {
   "cell_type": "code",
   "execution_count": 29,
   "id": "e4dc924b-da81-4ad3-a87d-ec684aac6ae0",
   "metadata": {},
   "outputs": [
    {
     "data": {
      "text/html": [
       "<div>\n",
       "<style scoped>\n",
       "    .dataframe tbody tr th:only-of-type {\n",
       "        vertical-align: middle;\n",
       "    }\n",
       "\n",
       "    .dataframe tbody tr th {\n",
       "        vertical-align: top;\n",
       "    }\n",
       "\n",
       "    .dataframe thead th {\n",
       "        text-align: right;\n",
       "    }\n",
       "</style>\n",
       "<table border=\"1\" class=\"dataframe\">\n",
       "  <thead>\n",
       "    <tr style=\"text-align: right;\">\n",
       "      <th></th>\n",
       "      <th>RowNumber</th>\n",
       "      <th>CustomerId</th>\n",
       "      <th>Surname</th>\n",
       "      <th>CreditScore</th>\n",
       "      <th>Geography</th>\n",
       "      <th>Gender</th>\n",
       "      <th>Age</th>\n",
       "      <th>Tenure</th>\n",
       "      <th>Balance</th>\n",
       "      <th>NumOfProducts</th>\n",
       "      <th>HasCrCard</th>\n",
       "      <th>IsActiveMember</th>\n",
       "      <th>EstimatedSalary</th>\n",
       "      <th>Exited</th>\n",
       "      <th>Complain</th>\n",
       "      <th>Satisfaction Score</th>\n",
       "      <th>Card Type</th>\n",
       "      <th>Point Earned</th>\n",
       "    </tr>\n",
       "  </thead>\n",
       "  <tbody>\n",
       "    <tr>\n",
       "      <th>0</th>\n",
       "      <td>1</td>\n",
       "      <td>15634602</td>\n",
       "      <td>Hargrave</td>\n",
       "      <td>619</td>\n",
       "      <td>France</td>\n",
       "      <td>Female</td>\n",
       "      <td>42</td>\n",
       "      <td>2</td>\n",
       "      <td>0.00</td>\n",
       "      <td>1</td>\n",
       "      <td>1</td>\n",
       "      <td>1</td>\n",
       "      <td>101348.88</td>\n",
       "      <td>1</td>\n",
       "      <td>1</td>\n",
       "      <td>2</td>\n",
       "      <td>DIAMOND</td>\n",
       "      <td>464</td>\n",
       "    </tr>\n",
       "    <tr>\n",
       "      <th>1</th>\n",
       "      <td>2</td>\n",
       "      <td>15647311</td>\n",
       "      <td>Hill</td>\n",
       "      <td>608</td>\n",
       "      <td>Spain</td>\n",
       "      <td>Female</td>\n",
       "      <td>41</td>\n",
       "      <td>1</td>\n",
       "      <td>83807.86</td>\n",
       "      <td>1</td>\n",
       "      <td>0</td>\n",
       "      <td>1</td>\n",
       "      <td>112542.58</td>\n",
       "      <td>0</td>\n",
       "      <td>1</td>\n",
       "      <td>3</td>\n",
       "      <td>DIAMOND</td>\n",
       "      <td>456</td>\n",
       "    </tr>\n",
       "    <tr>\n",
       "      <th>2</th>\n",
       "      <td>3</td>\n",
       "      <td>15619304</td>\n",
       "      <td>Onio</td>\n",
       "      <td>502</td>\n",
       "      <td>France</td>\n",
       "      <td>Female</td>\n",
       "      <td>42</td>\n",
       "      <td>8</td>\n",
       "      <td>159660.80</td>\n",
       "      <td>3</td>\n",
       "      <td>1</td>\n",
       "      <td>0</td>\n",
       "      <td>113931.57</td>\n",
       "      <td>1</td>\n",
       "      <td>1</td>\n",
       "      <td>3</td>\n",
       "      <td>DIAMOND</td>\n",
       "      <td>377</td>\n",
       "    </tr>\n",
       "    <tr>\n",
       "      <th>3</th>\n",
       "      <td>4</td>\n",
       "      <td>15701354</td>\n",
       "      <td>Boni</td>\n",
       "      <td>699</td>\n",
       "      <td>France</td>\n",
       "      <td>Female</td>\n",
       "      <td>39</td>\n",
       "      <td>1</td>\n",
       "      <td>0.00</td>\n",
       "      <td>2</td>\n",
       "      <td>0</td>\n",
       "      <td>0</td>\n",
       "      <td>93826.63</td>\n",
       "      <td>0</td>\n",
       "      <td>0</td>\n",
       "      <td>5</td>\n",
       "      <td>GOLD</td>\n",
       "      <td>350</td>\n",
       "    </tr>\n",
       "    <tr>\n",
       "      <th>4</th>\n",
       "      <td>5</td>\n",
       "      <td>15737888</td>\n",
       "      <td>Mitchell</td>\n",
       "      <td>850</td>\n",
       "      <td>Spain</td>\n",
       "      <td>Female</td>\n",
       "      <td>43</td>\n",
       "      <td>2</td>\n",
       "      <td>125510.82</td>\n",
       "      <td>1</td>\n",
       "      <td>1</td>\n",
       "      <td>1</td>\n",
       "      <td>79084.10</td>\n",
       "      <td>0</td>\n",
       "      <td>0</td>\n",
       "      <td>5</td>\n",
       "      <td>GOLD</td>\n",
       "      <td>425</td>\n",
       "    </tr>\n",
       "    <tr>\n",
       "      <th>...</th>\n",
       "      <td>...</td>\n",
       "      <td>...</td>\n",
       "      <td>...</td>\n",
       "      <td>...</td>\n",
       "      <td>...</td>\n",
       "      <td>...</td>\n",
       "      <td>...</td>\n",
       "      <td>...</td>\n",
       "      <td>...</td>\n",
       "      <td>...</td>\n",
       "      <td>...</td>\n",
       "      <td>...</td>\n",
       "      <td>...</td>\n",
       "      <td>...</td>\n",
       "      <td>...</td>\n",
       "      <td>...</td>\n",
       "      <td>...</td>\n",
       "      <td>...</td>\n",
       "    </tr>\n",
       "    <tr>\n",
       "      <th>9995</th>\n",
       "      <td>9996</td>\n",
       "      <td>15606229</td>\n",
       "      <td>Obijiaku</td>\n",
       "      <td>771</td>\n",
       "      <td>France</td>\n",
       "      <td>Male</td>\n",
       "      <td>39</td>\n",
       "      <td>5</td>\n",
       "      <td>0.00</td>\n",
       "      <td>2</td>\n",
       "      <td>1</td>\n",
       "      <td>0</td>\n",
       "      <td>96270.64</td>\n",
       "      <td>0</td>\n",
       "      <td>0</td>\n",
       "      <td>1</td>\n",
       "      <td>DIAMOND</td>\n",
       "      <td>300</td>\n",
       "    </tr>\n",
       "    <tr>\n",
       "      <th>9996</th>\n",
       "      <td>9997</td>\n",
       "      <td>15569892</td>\n",
       "      <td>Johnstone</td>\n",
       "      <td>516</td>\n",
       "      <td>France</td>\n",
       "      <td>Male</td>\n",
       "      <td>35</td>\n",
       "      <td>10</td>\n",
       "      <td>57369.61</td>\n",
       "      <td>1</td>\n",
       "      <td>1</td>\n",
       "      <td>1</td>\n",
       "      <td>101699.77</td>\n",
       "      <td>0</td>\n",
       "      <td>0</td>\n",
       "      <td>5</td>\n",
       "      <td>PLATINUM</td>\n",
       "      <td>771</td>\n",
       "    </tr>\n",
       "    <tr>\n",
       "      <th>9997</th>\n",
       "      <td>9998</td>\n",
       "      <td>15584532</td>\n",
       "      <td>Liu</td>\n",
       "      <td>709</td>\n",
       "      <td>France</td>\n",
       "      <td>Female</td>\n",
       "      <td>36</td>\n",
       "      <td>7</td>\n",
       "      <td>0.00</td>\n",
       "      <td>1</td>\n",
       "      <td>0</td>\n",
       "      <td>1</td>\n",
       "      <td>42085.58</td>\n",
       "      <td>1</td>\n",
       "      <td>1</td>\n",
       "      <td>3</td>\n",
       "      <td>SILVER</td>\n",
       "      <td>564</td>\n",
       "    </tr>\n",
       "    <tr>\n",
       "      <th>9998</th>\n",
       "      <td>9999</td>\n",
       "      <td>15682355</td>\n",
       "      <td>Sabbatini</td>\n",
       "      <td>772</td>\n",
       "      <td>Germany</td>\n",
       "      <td>Male</td>\n",
       "      <td>42</td>\n",
       "      <td>3</td>\n",
       "      <td>75075.31</td>\n",
       "      <td>2</td>\n",
       "      <td>1</td>\n",
       "      <td>0</td>\n",
       "      <td>92888.52</td>\n",
       "      <td>1</td>\n",
       "      <td>1</td>\n",
       "      <td>2</td>\n",
       "      <td>GOLD</td>\n",
       "      <td>339</td>\n",
       "    </tr>\n",
       "    <tr>\n",
       "      <th>9999</th>\n",
       "      <td>10000</td>\n",
       "      <td>15628319</td>\n",
       "      <td>Walker</td>\n",
       "      <td>792</td>\n",
       "      <td>France</td>\n",
       "      <td>Female</td>\n",
       "      <td>28</td>\n",
       "      <td>4</td>\n",
       "      <td>130142.79</td>\n",
       "      <td>1</td>\n",
       "      <td>1</td>\n",
       "      <td>0</td>\n",
       "      <td>38190.78</td>\n",
       "      <td>0</td>\n",
       "      <td>0</td>\n",
       "      <td>3</td>\n",
       "      <td>DIAMOND</td>\n",
       "      <td>911</td>\n",
       "    </tr>\n",
       "  </tbody>\n",
       "</table>\n",
       "<p>10000 rows × 18 columns</p>\n",
       "</div>"
      ],
      "text/plain": [
       "      RowNumber  CustomerId    Surname  CreditScore Geography  Gender  Age  \\\n",
       "0             1    15634602   Hargrave          619    France  Female   42   \n",
       "1             2    15647311       Hill          608     Spain  Female   41   \n",
       "2             3    15619304       Onio          502    France  Female   42   \n",
       "3             4    15701354       Boni          699    France  Female   39   \n",
       "4             5    15737888   Mitchell          850     Spain  Female   43   \n",
       "...         ...         ...        ...          ...       ...     ...  ...   \n",
       "9995       9996    15606229   Obijiaku          771    France    Male   39   \n",
       "9996       9997    15569892  Johnstone          516    France    Male   35   \n",
       "9997       9998    15584532        Liu          709    France  Female   36   \n",
       "9998       9999    15682355  Sabbatini          772   Germany    Male   42   \n",
       "9999      10000    15628319     Walker          792    France  Female   28   \n",
       "\n",
       "      Tenure    Balance  NumOfProducts  HasCrCard  IsActiveMember  \\\n",
       "0          2       0.00              1          1               1   \n",
       "1          1   83807.86              1          0               1   \n",
       "2          8  159660.80              3          1               0   \n",
       "3          1       0.00              2          0               0   \n",
       "4          2  125510.82              1          1               1   \n",
       "...      ...        ...            ...        ...             ...   \n",
       "9995       5       0.00              2          1               0   \n",
       "9996      10   57369.61              1          1               1   \n",
       "9997       7       0.00              1          0               1   \n",
       "9998       3   75075.31              2          1               0   \n",
       "9999       4  130142.79              1          1               0   \n",
       "\n",
       "      EstimatedSalary  Exited  Complain  Satisfaction Score Card Type  \\\n",
       "0           101348.88       1         1                   2   DIAMOND   \n",
       "1           112542.58       0         1                   3   DIAMOND   \n",
       "2           113931.57       1         1                   3   DIAMOND   \n",
       "3            93826.63       0         0                   5      GOLD   \n",
       "4            79084.10       0         0                   5      GOLD   \n",
       "...               ...     ...       ...                 ...       ...   \n",
       "9995         96270.64       0         0                   1   DIAMOND   \n",
       "9996        101699.77       0         0                   5  PLATINUM   \n",
       "9997         42085.58       1         1                   3    SILVER   \n",
       "9998         92888.52       1         1                   2      GOLD   \n",
       "9999         38190.78       0         0                   3   DIAMOND   \n",
       "\n",
       "      Point Earned  \n",
       "0              464  \n",
       "1              456  \n",
       "2              377  \n",
       "3              350  \n",
       "4              425  \n",
       "...            ...  \n",
       "9995           300  \n",
       "9996           771  \n",
       "9997           564  \n",
       "9998           339  \n",
       "9999           911  \n",
       "\n",
       "[10000 rows x 18 columns]"
      ]
     },
     "execution_count": 29,
     "metadata": {},
     "output_type": "execute_result"
    }
   ],
   "source": [
    "df = pd.read_csv('Customer-Churn-Records.csv')\n",
    "df"
   ]
  },
  {
   "cell_type": "markdown",
   "id": "d6e87736-6a45-4b8f-aba2-30f0158fd06a",
   "metadata": {},
   "source": [
    "***Preprocessing dataset***t"
   ]
  },
  {
   "cell_type": "markdown",
   "id": "394cfe79-611d-418d-82ab-a11af3c92f87",
   "metadata": {},
   "source": [
    "***Encoding target***"
   ]
  },
  {
   "cell_type": "code",
   "execution_count": 30,
   "id": "23ee4395-5bf6-4aa5-8bd3-bc235f5d5e69",
   "metadata": {},
   "outputs": [],
   "source": [
    "le = LabelEncoder()\n",
    "df['Gender'] = le.fit_transform(df['Gender'])"
   ]
  },
  {
   "cell_type": "code",
   "execution_count": 40,
   "id": "b1b37724-f9bc-4805-a74a-9dc1b2024e27",
   "metadata": {},
   "outputs": [],
   "source": [
    "# Pilih atribut yang dianggap memengaruhi hasil prediksi\n",
    "selected_features = ['Age', 'Tenure', 'Balance']\n",
    "X = df[selected_features]\n",
    "y = df['Gender']"
   ]
  },
  {
   "cell_type": "markdown",
   "id": "4fa72ead-ba62-4784-b94f-d2fa3b331afb",
   "metadata": {},
   "source": [
    "***Split dataset menjadi train dan test***"
   ]
  },
  {
   "cell_type": "code",
   "execution_count": 41,
   "id": "a81fd49b-20a7-4701-93ce-a0fbd5ff843d",
   "metadata": {},
   "outputs": [],
   "source": [
    "X_train, X_test, y_train, y_test = train_test_split(X, y, test_size=0.2, random_state=42)"
   ]
  },
  {
   "cell_type": "markdown",
   "id": "0691eebb-07b0-456c-a029-6934c8cd9131",
   "metadata": {},
   "source": [
    "***Membuat model sequential***"
   ]
  },
  {
   "cell_type": "code",
   "execution_count": 42,
   "id": "f7cf65ec-7507-46d0-bc56-324fc26e8f61",
   "metadata": {},
   "outputs": [
    {
     "name": "stdout",
     "output_type": "stream",
     "text": [
      "Model: \"sequential_4\"\n",
      "_________________________________________________________________\n",
      " Layer (type)                Output Shape              Param #   \n",
      "=================================================================\n",
      " dense_15 (Dense)            (None, 64)                256       \n",
      "                                                                 \n",
      " dense_16 (Dense)            (None, 32)                2080      \n",
      "                                                                 \n",
      " dense_17 (Dense)            (None, 16)                528       \n",
      "                                                                 \n",
      " dense_18 (Dense)            (None, 1)                 17        \n",
      "                                                                 \n",
      "=================================================================\n",
      "Total params: 2881 (11.25 KB)\n",
      "Trainable params: 2881 (11.25 KB)\n",
      "Non-trainable params: 0 (0.00 Byte)\n",
      "_________________________________________________________________\n"
     ]
    }
   ],
   "source": [
    "model = Sequential()\n",
    "model.add(layers.Dense(64, activation='relu', input_dim=X_train.shape[1]))\n",
    "model.add(layers.Dense(32, activation='relu'))\n",
    "model.add(layers.Dense(16, activation='relu'))\n",
    "model.add(layers.Dense(1, activation='sigmoid'))\n",
    "model.summary()"
   ]
  },
  {
   "cell_type": "code",
   "execution_count": 43,
   "id": "fca7be78-de84-4480-8a40-fbdc88311dfa",
   "metadata": {},
   "outputs": [],
   "source": [
    "model.compile(optimizer='adam', loss='binary_crossentropy', metrics=['accuracy'])"
   ]
  },
  {
   "cell_type": "markdown",
   "id": "ed33276d-ef81-4314-ac3b-5149c707e93b",
   "metadata": {},
   "source": [
    "***Callback***"
   ]
  },
  {
   "cell_type": "markdown",
   "id": "64dcebea-fed8-4d5f-ad3a-6365c00caea4",
   "metadata": {},
   "source": [
    "Callback untuk menghentikan pelatihan jika tidak ada perbaikan pada validation loss"
   ]
  },
  {
   "cell_type": "code",
   "execution_count": 44,
   "id": "406914d5-cd07-46cf-9121-85d7602274fe",
   "metadata": {},
   "outputs": [],
   "source": [
    "early_stopping = EarlyStopping(monitor='val_loss', patience=10, restore_best_weights=True)"
   ]
  },
  {
   "cell_type": "markdown",
   "id": "3d388c4d-ad48-4f81-a786-e2164ee92178",
   "metadata": {},
   "source": [
    "Callback untuk menyimpan model terbaik berdasarkan validation loss"
   ]
  },
  {
   "cell_type": "code",
   "execution_count": 45,
   "id": "a98b7b3b-0a35-464a-8f6b-f5fe04ad44b4",
   "metadata": {},
   "outputs": [],
   "source": [
    "model_checkpoint = ModelCheckpoint('best_model.h5', save_best_only=True)"
   ]
  },
  {
   "cell_type": "markdown",
   "id": "b0391bec-dfb0-4215-a60d-b3ead3ec042b",
   "metadata": {},
   "source": [
    "***Pelatihan model***"
   ]
  },
  {
   "cell_type": "code",
   "execution_count": 46,
   "id": "6dfaa6f5-06ce-471c-b96f-27e575c8dce9",
   "metadata": {},
   "outputs": [
    {
     "name": "stdout",
     "output_type": "stream",
     "text": [
      "Epoch 1/100\n",
      "100/100 [==============================] - 2s 8ms/step - loss: 85.3123 - accuracy: 0.5103 - val_loss: 22.1273 - val_accuracy: 0.4762\n",
      "Epoch 2/100\n",
      " 23/100 [=====>........................] - ETA: 0s - loss: 8.2585 - accuracy: 0.5462 "
     ]
    },
    {
     "name": "stderr",
     "output_type": "stream",
     "text": [
      "C:\\Users\\LENOVO\\AppData\\Local\\Programs\\Python\\Python310\\lib\\site-packages\\keras\\src\\engine\\training.py:3079: UserWarning: You are saving your model as an HDF5 file via `model.save()`. This file format is considered legacy. We recommend using instead the native Keras format, e.g. `model.save('my_model.keras')`.\n",
      "  saving_api.save_model(\n"
     ]
    },
    {
     "name": "stdout",
     "output_type": "stream",
     "text": [
      "100/100 [==============================] - 1s 6ms/step - loss: 11.5809 - accuracy: 0.5083 - val_loss: 8.4859 - val_accuracy: 0.5569\n",
      "Epoch 3/100\n",
      "100/100 [==============================] - 1s 8ms/step - loss: 11.7875 - accuracy: 0.5117 - val_loss: 43.3628 - val_accuracy: 0.4762\n",
      "Epoch 4/100\n",
      "100/100 [==============================] - 0s 5ms/step - loss: 9.7954 - accuracy: 0.5213 - val_loss: 17.2520 - val_accuracy: 0.5562\n",
      "Epoch 5/100\n",
      "100/100 [==============================] - 1s 5ms/step - loss: 9.3439 - accuracy: 0.5228 - val_loss: 13.7662 - val_accuracy: 0.4762\n",
      "Epoch 6/100\n",
      "100/100 [==============================] - 1s 8ms/step - loss: 11.6488 - accuracy: 0.5192 - val_loss: 19.6261 - val_accuracy: 0.5562\n",
      "Epoch 7/100\n",
      "100/100 [==============================] - 1s 7ms/step - loss: 12.3554 - accuracy: 0.5120 - val_loss: 7.9151 - val_accuracy: 0.5569\n",
      "Epoch 8/100\n",
      "100/100 [==============================] - 1s 6ms/step - loss: 16.4258 - accuracy: 0.5098 - val_loss: 26.0836 - val_accuracy: 0.4762\n",
      "Epoch 9/100\n",
      "100/100 [==============================] - 1s 5ms/step - loss: 8.4236 - accuracy: 0.5225 - val_loss: 8.3593 - val_accuracy: 0.5562\n",
      "Epoch 10/100\n",
      "100/100 [==============================] - 1s 7ms/step - loss: 13.2542 - accuracy: 0.5089 - val_loss: 2.4090 - val_accuracy: 0.4762\n",
      "Epoch 11/100\n",
      "100/100 [==============================] - 1s 6ms/step - loss: 8.6586 - accuracy: 0.5031 - val_loss: 0.8721 - val_accuracy: 0.5575\n",
      "Epoch 12/100\n",
      "100/100 [==============================] - 1s 5ms/step - loss: 6.1415 - accuracy: 0.5214 - val_loss: 8.6215 - val_accuracy: 0.4762\n",
      "Epoch 13/100\n",
      "100/100 [==============================] - 1s 5ms/step - loss: 10.4642 - accuracy: 0.5133 - val_loss: 2.7943 - val_accuracy: 0.5569\n",
      "Epoch 14/100\n",
      "100/100 [==============================] - 0s 5ms/step - loss: 6.8636 - accuracy: 0.5236 - val_loss: 6.4487 - val_accuracy: 0.5569\n",
      "Epoch 15/100\n",
      "100/100 [==============================] - 1s 5ms/step - loss: 6.2044 - accuracy: 0.5088 - val_loss: 11.2592 - val_accuracy: 0.4762\n",
      "Epoch 16/100\n",
      "100/100 [==============================] - 1s 5ms/step - loss: 7.8803 - accuracy: 0.5241 - val_loss: 1.9470 - val_accuracy: 0.4606\n",
      "Epoch 17/100\n",
      "100/100 [==============================] - 0s 5ms/step - loss: 5.9052 - accuracy: 0.5206 - val_loss: 2.0023 - val_accuracy: 0.5569\n",
      "Epoch 18/100\n",
      "100/100 [==============================] - 1s 5ms/step - loss: 4.6365 - accuracy: 0.5145 - val_loss: 1.8832 - val_accuracy: 0.5569\n",
      "Epoch 19/100\n",
      "100/100 [==============================] - 1s 5ms/step - loss: 6.5457 - accuracy: 0.5200 - val_loss: 3.6753 - val_accuracy: 0.4762\n",
      "Epoch 20/100\n",
      "100/100 [==============================] - 1s 5ms/step - loss: 4.9175 - accuracy: 0.5213 - val_loss: 2.4582 - val_accuracy: 0.5569\n",
      "Epoch 21/100\n",
      "100/100 [==============================] - 1s 5ms/step - loss: 4.7270 - accuracy: 0.5214 - val_loss: 13.6547 - val_accuracy: 0.5606\n"
     ]
    }
   ],
   "source": [
    "history = model.fit(X_train, y_train, epochs=100, batch_size=64, validation_split=0.2, callbacks=[early_stopping, model_checkpoint])"
   ]
  },
  {
   "cell_type": "code",
   "execution_count": 47,
   "id": "07dda880-3da5-46df-96a2-6ffb145b8df9",
   "metadata": {},
   "outputs": [],
   "source": [
    "# Load model terbaik\n",
    "model = keras.models.load_model('best_model.h5')"
   ]
  },
  {
   "cell_type": "markdown",
   "id": "8c57c016-125b-44c0-a771-99e8eda3578f",
   "metadata": {},
   "source": [
    "***Evaluasi Model***"
   ]
  },
  {
   "cell_type": "code",
   "execution_count": 48,
   "id": "b3d17ca4-6123-4de7-af37-5ca2f7025b22",
   "metadata": {},
   "outputs": [
    {
     "name": "stdout",
     "output_type": "stream",
     "text": [
      "63/63 [==============================] - 0s 3ms/step - loss: 0.8935 - accuracy: 0.5490\n",
      "Test Loss: 0.8935\n",
      "Test Accuracy: 0.5490\n"
     ]
    }
   ],
   "source": [
    "test_loss, test_accuracy = model.evaluate(X_test, y_test)\n",
    "print(f'Test Loss: {test_loss:.4f}')\n",
    "print(f'Test Accuracy: {test_accuracy:.4f}')"
   ]
  },
  {
   "cell_type": "markdown",
   "id": "cd915ab9-1b43-4ac4-b823-6cb05e40a0e0",
   "metadata": {},
   "source": [
    "***Dibawah ini adalah grafik perbandingan accuracy dan loss dari train dan test***"
   ]
  },
  {
   "cell_type": "code",
   "execution_count": 49,
   "id": "bfe8078a-1339-4a0a-97a9-f3f3f764d098",
   "metadata": {},
   "outputs": [
    {
     "data": {
      "image/png": "[encoded data removed]",
      "text/plain": [
       "<Figure size 1200x400 with 2 Axes>"
      ]
     },
     "metadata": {},
     "output_type": "display_data"
    }
   ],
   "source": [
    "plt.figure(figsize=(12, 4))\n",
    "plt.subplot(1, 2, 1)\n",
    "plt.plot(history.history['accuracy'], label='Train Accuracy')\n",
    "plt.plot(history.history['val_accuracy'], label='Validation Accuracy')\n",
    "plt.legend()\n",
    "plt.title('Training and Validation Accuracy')\n",
    "\n",
    "plt.subplot(1, 2, 2)\n",
    "plt.plot(history.history['loss'], label='Train Loss')\n",
    "plt.plot(history.history['val_loss'], label='Validation Loss')\n",
    "plt.legend()\n",
    "plt.title('Training and Validation Loss')\n",
    "\n",
    "plt.show()"
   ]
  },
  {
   "cell_type": "code",
   "execution_count": null,
   "id": "bb19cc83-8515-4459-acd5-5965ce9c986a",
   "metadata": {},
   "outputs": [],
   "source": []
  }
 ],
 "metadata": {
  "kernelspec": {
   "display_name": "arif_129",
   "language": "python",
   "name": "arif_129"
  },
  "language_info": {
   "codemirror_mode": {
    "name": "ipython",
    "version": 3
   },
   "file_extension": ".py",
   "mimetype": "text/x-python",
   "name": "python",
   "nbconvert_exporter": "python",
   "pygments_lexer": "ipython3",
   "version": "3.10.7"
  }
 },
 "nbformat": 4,
 "nbformat_minor": 5
}
